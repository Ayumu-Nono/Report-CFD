{
 "cells": [
  {
   "cell_type": "markdown",
   "source": [
    "# (1)MacCormack法\n"
   ],
   "metadata": {}
  },
  {
   "cell_type": "code",
   "execution_count": 161,
   "source": [
    "import numpy as np\n",
    "import matplotlib.pyplot as plt"
   ],
   "outputs": [],
   "metadata": {}
  },
  {
   "cell_type": "code",
   "execution_count": 162,
   "source": [
    "nmax = 200\n",
    "jmax = 101\n",
    "dt = 0.002\n",
    "gamma = 1.4"
   ],
   "outputs": [],
   "metadata": {}
  },
  {
   "cell_type": "code",
   "execution_count": 163,
   "source": [
    "DIM = 3\n",
    "# 左\n",
    "p1 = 1.0\n",
    "rho1 = 1.0\n",
    "u1 = 0.0\n",
    "# 右\n",
    "p2 = 0.1\n",
    "rho2 = 0.125\n",
    "u2 = 0.0"
   ],
   "outputs": [],
   "metadata": {}
  },
  {
   "cell_type": "code",
   "execution_count": 164,
   "source": [
    "xmin, xmax = -1.0, 1.0\n",
    "xmid = 0.0\n",
    "x = np.linspace(xmin, xmax, jmax)\n",
    "dx = np.mean(np.diff(x))\n",
    "dtdx = dt / dx"
   ],
   "outputs": [],
   "metadata": {}
  },
  {
   "cell_type": "code",
   "execution_count": 165,
   "source": [
    "# 状態方程式\n",
    "def eq_energy(p, rho, u):\n",
    "    return p / (gamma - 1.0) + (1 / 2) * rho * u**2\n",
    "\n",
    "def eq_pressure(e, rho, u):\n",
    "    return (gamma - 1.0) * (e - 0.5 * rho * u**2)"
   ],
   "outputs": [],
   "metadata": {}
  },
  {
   "cell_type": "code",
   "execution_count": 166,
   "source": [
    "# 初期化\n",
    "def init_Q():\n",
    "    Q = np.zeros((jmax, DIM))\n",
    "    assert len(x) == len(Q)\n",
    "    Q[x <= xmid, 0] = rho1\n",
    "    Q[x <= xmid, 1] = rho1 * u1\n",
    "    Q[x <= xmid, 2] = eq_energy(p=p1, rho=rho1, u=u1)\n",
    "    Q[x > xmid, 0] = rho2\n",
    "    Q[x > xmid, 1] = rho2 * u2\n",
    "    Q[x > xmid, 2] = eq_energy(p=p2, rho=rho2, u=u2)\n",
    "    return Q"
   ],
   "outputs": [],
   "metadata": {}
  },
  {
   "cell_type": "code",
   "execution_count": 167,
   "source": [
    "def calc_CFL(Q: np.ndarray):\n",
    "    all_rho, all_rhou, all_e = Q[:, 0], Q[:, 1], Q[:, 2]\n",
    "    all_u = all_rhou / all_rho\n",
    "    all_p = eq_pressure(e=all_e, rho=all_rho, u=all_u)\n",
    "    all_c = np.sqrt(gamma * all_p / all_rho)\n",
    "    speed = all_c + np.abs(all_u)\n",
    "    return np.max(speed) * dtdx"
   ],
   "outputs": [],
   "metadata": {}
  },
  {
   "cell_type": "code",
   "execution_count": 168,
   "source": [
    "def E_flux(Q: np.ndarray, E: np.ndarray):\n",
    "    all_rho, all_rhou, all_e = Q[:, 0], Q[:, 1], Q[:, 2]\n",
    "    all_u = all_rhou / all_rho\n",
    "    all_p = eq_pressure(e=all_e, rho=all_rho, u=all_u)\n",
    "    \n",
    "    E[:, 0] = all_rhou\n",
    "    E[:, 1] = all_p + all_rhou * all_u\n",
    "    E[:, 2] = (all_e + all_p) * all_u\n",
    "    return E"
   ],
   "outputs": [],
   "metadata": {}
  },
  {
   "cell_type": "code",
   "execution_count": 169,
   "source": [
    "def MacCormark(Q: np.ndarray, eps_c: float):\n",
    "    # init\n",
    "    E = np.zeros((jmax, DIM))\n",
    "    interval = 2\n",
    "    # 保存用\n",
    "    store_Q = np.zeros((nmax, jmax, DIM))\n",
    "\n",
    "    for n in range(nmax):\n",
    "        # if n%interval == 0:\n",
    "        #     print(\"n={0}, CFL={1}\".format(n, calc_CFL(Q)))\n",
    "        _Q = Q.copy()\n",
    "        \n",
    "        E = E_flux(Q=Q, E=E)\n",
    "        for j in range(1, jmax - 1):\n",
    "            _Q[j] = Q[j] - dtdx * (E[j] - E[j-1])\n",
    "        \n",
    "        E = E_flux(Q=_Q, E=E)\n",
    "        for j in range(1, jmax - 2):\n",
    "            Q[j] = (1/2) * (Q[j] + _Q[j]) - (1/2) * dtdx * (E[j+1] - E[j])\n",
    "\n",
    "        _Q = Q.copy()\n",
    "        for j in range(1, jmax - 1):\n",
    "            D1 = _Q[j-1] - 2.0 * _Q[j] + _Q[j+1]\n",
    "            D2 = _Q[j-1] + 2.0 * _Q[j] + _Q[j+1]\n",
    "            k = eps_c * np.linalg.norm(D1) / np.linalg.norm(D2)\n",
    "            Q[j] += k * D1\n",
    "\n",
    "        # 後処理\n",
    "        store_Q[n] = Q\n",
    "    return store_Q"
   ],
   "outputs": [],
   "metadata": {}
  },
  {
   "cell_type": "code",
   "execution_count": 170,
   "source": [
    "Q = init_Q()\n",
    "store_Q = MacCormark(Q=Q, eps_c=0.2)"
   ],
   "outputs": [],
   "metadata": {}
  },
  {
   "cell_type": "markdown",
   "source": [
    "## 可視化\n"
   ],
   "metadata": {}
  },
  {
   "cell_type": "code",
   "execution_count": 185,
   "source": [
    "# グラフの設定\n",
    "plt.rcParams[\"font.family\"] = \"Times New Roman\"\n",
    "plt.rcParams[\"figure.dpi\"] = 100"
   ],
   "outputs": [],
   "metadata": {}
  },
  {
   "cell_type": "code",
   "execution_count": 186,
   "source": [
    "def draw_graph(dim):\n",
    "    fig = plt.figure()\n",
    "    for n in range(nmax):\n",
    "        interval = 50\n",
    "        if n%interval != 0:\n",
    "            continue\n",
    "        b = 0.1\n",
    "        a = (1 - b) / nmax\n",
    "        alpha = a * n + b\n",
    "        plt.plot(x, store_Q[n, :, 0], color=\"black\", alpha=alpha, label=\"n={0}\".format(n))\n",
    "    plt.legend()\n",
    "    return fig"
   ],
   "outputs": [],
   "metadata": {}
  },
  {
   "cell_type": "code",
   "execution_count": 187,
   "source": [
    "# fig = draw_graph(dim=0)\n",
    "\n",
    "fig = plt.figure(figsize=(5, 10))\n",
    "plt.subplots_adjust(wspace=0.4, hspace=.6)\n",
    "axs = [fig.add_subplot(3, 1, i+1) for i in range(DIM)]\n",
    "\n",
    "name_list = [\"rho\", \"rho u\", \"e\"]\n",
    "for i, ax in enumerate(axs):\n",
    "    ax.set_ylabel(name_list[i])\n",
    "    ax.set_xlabel(\"x\")\n",
    "\n",
    "fig.savefig(\"img/report1/general_result.png\")\n",
    "\n"
   ],
   "outputs": [
    {
     "output_type": "display_data",
     "data": {
      "text/plain": [
       "<Figure size 500x1000 with 3 Axes>"
      ],
      "image/png": "[encoded data removed]"
     },
     "metadata": {
      "needs_background": "light"
     }
    }
   ],
   "metadata": {}
  },
  {
   "cell_type": "code",
   "execution_count": null,
   "source": [],
   "outputs": [],
   "metadata": {}
  }
 ],
 "metadata": {
  "orig_nbformat": 4,
  "language_info": {
   "name": "python",
   "version": "3.7.6+",
   "mimetype": "text/x-python",
   "codemirror_mode": {
    "name": "ipython",
    "version": 3
   },
   "pygments_lexer": "ipython3",
   "nbconvert_exporter": "python",
   "file_extension": ".py"
  },
  "kernelspec": {
   "name": "python3",
   "display_name": "Python 3.7.6 64-bit ('3.7-dev': pyenv)"
  },
  "interpreter": {
   "hash": "981fdbf1caee0cae960f52b96d3fa256ca76bdc4ba8ef7059071e42378445b98"
  }
 },
 "nbformat": 4,
 "nbformat_minor": 2
}